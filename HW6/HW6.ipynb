{
  "cells": [
    {
      "cell_type": "markdown",
      "id": "54f0112f",
      "metadata": {
        "id": "54f0112f"
      },
      "source": [
        "<a href=\"https://colab.research.google.com/github/dbamman/nlp22/blob/main/HW6/HW6.ipynb\" target=\"_parent\"><img src=\"https://colab.research.google.com/assets/colab-badge.svg\" alt=\"Open In Colab\"/></a>"
      ]
    },
    {
      "cell_type": "markdown",
      "id": "0a4f183a",
      "metadata": {
        "id": "0a4f183a"
      },
      "source": [
        "## Homework 6\n",
        "\n",
        "In this homework, you will be working with WordNet synsets and exploring methods to align new words (not in WordNet) with an existing synset."
      ]
    },
    {
      "cell_type": "code",
      "execution_count": null,
      "id": "0adaa568",
      "metadata": {
        "id": "0adaa568"
      },
      "outputs": [],
      "source": [
        "import nltk\n",
        "import math\n",
        "from nltk import word_tokenize\n",
        "from nltk.corpus import wordnet as wn\n",
        "import numpy as np\n",
        "from typing import List, Tuple, Dict\n",
        "\n",
        "nltk.download('wordnet')\n",
        "nltk.download('punkt')\n",
        "!wget https://people.ischool.berkeley.edu/~dbamman/glove.6B.100d.100K.txt\n",
        "!pip install sentence_transformers\n",
        "from sentence_transformers import SentenceTransformer"
      ]
    },
    {
      "cell_type": "markdown",
      "id": "9c188261",
      "metadata": {
        "id": "9c188261"
      },
      "source": [
        "# Preliminaries: WordNet"
      ]
    },
    {
      "cell_type": "markdown",
      "id": "dd0cba00",
      "metadata": {
        "id": "dd0cba00"
      },
      "source": [
        "NLTK provides a great interface to the WordNet ontology.  Remember that core unit within WordNet is the **synset** (a category of near-synonyms).  A word (like \"blue\") can appear in many different synsets, each corresponding to a distinct *sense* of that word."
      ]
    },
    {
      "cell_type": "code",
      "execution_count": 42,
      "id": "852cf585",
      "metadata": {
        "id": "852cf585",
        "colab": {
          "base_uri": "https://localhost:8080/"
        },
        "outputId": "599c4397-1080-4e43-999a-d69e26cb25cf"
      },
      "outputs": [
        {
          "output_type": "stream",
          "name": "stdout",
          "text": [
            "Synset('blue.n.01') blue color or pigment; resembling the color of the clear sky in the daytime\n",
            "Synset('blue.n.02') blue clothing\n",
            "Synset('blue.n.03') any organization or party whose uniforms or badges are blue\n",
            "Synset('blue_sky.n.01') the sky as viewed during daylight\n",
            "Synset('bluing.n.01') used to whiten laundry or hair or give it a bluish tinge\n",
            "Synset('amobarbital_sodium.n.01') the sodium salt of amobarbital that is used as a barbiturate; used as a sedative and a hypnotic\n",
            "Synset('blue.n.07') any of numerous small butterflies of the family Lycaenidae\n",
            "Synset('blue.v.01') turn blue\n",
            "Synset('blue.s.01') of the color intermediate between green and violet; having a color similar to that of a clear unclouded sky\n",
            "Synset('blue.s.02') used to signify the Union forces in the American Civil War (who wore blue uniforms)\n",
            "Synset('gloomy.s.02') filled with melancholy and despondency\n",
            "Synset('blasphemous.s.02') characterized by profanity or cursing\n",
            "Synset('blue.s.05') suggestive of sexual impropriety\n",
            "Synset('aristocratic.s.01') belonging to or characteristic of the nobility or aristocracy\n",
            "Synset('blue.s.07') morally rigorous and strict\n",
            "Synset('blue.s.08') causing dejection\n"
          ]
        }
      ],
      "source": [
        "# get all of the synsets that a specific word belongs to; print their definitions\n",
        "\n",
        "synsets=wn.synsets('blue')\n",
        "for synset in synsets:\n",
        "    print (synset, synset.definition())"
      ]
    },
    {
      "cell_type": "markdown",
      "id": "28f268c3",
      "metadata": {
        "id": "28f268c3"
      },
      "source": [
        "Any given synset will likewise contain multiple different words (all near-synonyms of each other)."
      ]
    },
    {
      "cell_type": "code",
      "execution_count": 43,
      "id": "5f809838",
      "metadata": {
        "id": "5f809838",
        "colab": {
          "base_uri": "https://localhost:8080/"
        },
        "outputId": "6a7bf2ec-4918-4383-ab42-987f90f27e20"
      },
      "outputs": [
        {
          "output_type": "stream",
          "name": "stdout",
          "text": [
            "gloomy\n",
            "grim\n",
            "blue\n",
            "depressed\n",
            "dispirited\n",
            "down\n",
            "downcast\n",
            "downhearted\n",
            "down_in_the_mouth\n",
            "low\n",
            "low-spirited\n"
          ]
        }
      ],
      "source": [
        "# get all of the words/phrase in a given synset\n",
        "\n",
        "for lemma in wn.synset(\"gloomy.s.02\").lemmas():\n",
        "    print (lemma.name())"
      ]
    },
    {
      "cell_type": "markdown",
      "id": "a7a2d1e5",
      "metadata": {
        "id": "a7a2d1e5"
      },
      "source": [
        "Remember also that one of the powerful things about WordNet is that it places synsets within a hierarchical structure; a given synset has both **hypernyms** (other synsets that it is a subclass of) and **hyponyms** (other synsets that are subclasses of it)."
      ]
    },
    {
      "cell_type": "code",
      "execution_count": 44,
      "id": "53b8ff2f",
      "metadata": {
        "id": "53b8ff2f"
      },
      "outputs": [],
      "source": [
        "# Functions from http://www.nltk.org/howto/wordnet.html to get *all* of a synset's hyponym/hypernyms\n",
        "\n",
        "hypo = lambda s: s.hyponyms()\n",
        "hyper = lambda s: s.hypernyms()"
      ]
    },
    {
      "cell_type": "markdown",
      "id": "033786e8",
      "metadata": {
        "id": "033786e8"
      },
      "source": [
        "Find all of the synsets that are hyponyms of the target synset (descendents in the WordNet hierarchy)"
      ]
    },
    {
      "cell_type": "code",
      "execution_count": 45,
      "id": "15a5988f",
      "metadata": {
        "id": "15a5988f",
        "colab": {
          "base_uri": "https://localhost:8080/"
        },
        "outputId": "460e4614-65c5-4b24-8495-166e6f050a2e"
      },
      "outputs": [
        {
          "output_type": "execute_result",
          "data": {
            "text/plain": [
              "[Synset('azure.n.01'),\n",
              " Synset('dark_blue.n.01'),\n",
              " Synset('greenish_blue.n.01'),\n",
              " Synset('powder_blue.n.01'),\n",
              " Synset('prussian_blue.n.02'),\n",
              " Synset('purplish_blue.n.01'),\n",
              " Synset('steel_blue.n.01'),\n",
              " Synset('ultramarine.n.02')]"
            ]
          },
          "metadata": {},
          "execution_count": 45
        }
      ],
      "source": [
        "list(wn.synset(\"blue.n.01\").closure(hypo))"
      ]
    },
    {
      "cell_type": "markdown",
      "id": "84b305eb",
      "metadata": {
        "id": "84b305eb"
      },
      "source": [
        "Find all of the synsets that are hyperyms (ancestors up the tree) of the target synset"
      ]
    },
    {
      "cell_type": "code",
      "execution_count": 46,
      "id": "2c22cece",
      "metadata": {
        "id": "2c22cece",
        "colab": {
          "base_uri": "https://localhost:8080/"
        },
        "outputId": "aaaed669-5b31-48ea-c23f-c826b7d3c68d"
      },
      "outputs": [
        {
          "output_type": "execute_result",
          "data": {
            "text/plain": [
              "[Synset('chromatic_color.n.01'),\n",
              " Synset('color.n.01'),\n",
              " Synset('visual_property.n.01'),\n",
              " Synset('property.n.02'),\n",
              " Synset('attribute.n.02'),\n",
              " Synset('abstraction.n.06'),\n",
              " Synset('entity.n.01')]"
            ]
          },
          "metadata": {},
          "execution_count": 46
        }
      ],
      "source": [
        "list(wn.synset(\"blue.n.01\").closure(hyper))"
      ]
    },
    {
      "cell_type": "markdown",
      "id": "5ac1001c",
      "metadata": {
        "id": "5ac1001c"
      },
      "source": [
        "Here's how you can access all of the synsets in WordNet through NLTK (though note executing this may take a while, so it's commented out)."
      ]
    },
    {
      "cell_type": "code",
      "execution_count": 47,
      "id": "449d8b45",
      "metadata": {
        "id": "449d8b45"
      },
      "outputs": [],
      "source": [
        "#for idx, synset in enumerate(wn.all_synsets()):\n",
        "#   print(idx, synset)\n",
        "#   if (idx > 10): break"
      ]
    },
    {
      "cell_type": "markdown",
      "id": "0b4cc005",
      "metadata": {
        "id": "0b4cc005"
      },
      "source": [
        "# Homework"
      ]
    },
    {
      "cell_type": "markdown",
      "id": "3cbe0f1a",
      "metadata": {
        "id": "3cbe0f1a"
      },
      "source": [
        "WordNet is a great resource, but one of its downsides is *coverage* -- many of the words in our vocabulay aren't in WordNet, but could conceivably be placed within existing synsets within it.  Your task for this homework is to develop two methods to finding the closest synset for a given new word from Urban Dictionary."
      ]
    },
    {
      "cell_type": "markdown",
      "id": "26301aaf",
      "metadata": {
        "id": "26301aaf"
      },
      "source": [
        "For the scope of this homework, we're only going to pretend that WordNet only has 12 different synsets within it (though feel free to use the `wn.all_synsets` function above if you wanted to explore running it on all of WordNet)."
      ]
    },
    {
      "cell_type": "code",
      "execution_count": 48,
      "id": "2f0c3485",
      "metadata": {
        "id": "2f0c3485"
      },
      "outputs": [],
      "source": [
        "target_synsets=['spread.n.01', 'formidable.s.01', 'coziness.n.01', 'mutation.n.02', 'kernel.n.03', 'faineant.s.01', 'fund-raise.v.01', 'orientation.n.06', 'inappropriate.a.01', 'stranger.n.02', 'plausibility.n.01', 'sever.v.01']"
      ]
    },
    {
      "cell_type": "code",
      "execution_count": 49,
      "id": "81f2c025",
      "metadata": {
        "id": "81f2c025",
        "colab": {
          "base_uri": "https://localhost:8080/"
        },
        "outputId": "a4f31bd0-ab51-4978-fa21-dd9db611e85f"
      },
      "outputs": [
        {
          "output_type": "stream",
          "name": "stdout",
          "text": [
            "Synset('spread.n.01')\n",
            "\tDefinition: process or result of distributing or extending over a wide expanse of space\n",
            "Synset('formidable.s.01')\n",
            "\tDefinition: extremely impressive in strength or excellence\n",
            "Synset('coziness.n.01')\n",
            "\tDefinition: a state of warm snug comfort\n",
            "Synset('mutation.n.02')\n",
            "\tDefinition: (genetics) any event that changes genetic structure; any alteration in the inherited nucleic acid sequence of the genotype of an organism\n",
            "Synset('kernel.n.03')\n",
            "\tDefinition: the choicest or most essential or most vital part of some idea or experience\n",
            "Synset('faineant.s.01')\n",
            "\tDefinition: disinclined to work or exertion\n",
            "Synset('fund-raise.v.01')\n",
            "\tDefinition: raise money for a cause or project\n",
            "Synset('orientation_course.n.01')\n",
            "\tDefinition: a course introducing a new situation or environment\n",
            "Synset('inappropriate.a.01')\n",
            "\tDefinition: not suitable for a particular occasion etc\n",
            "Synset('stranger.n.02')\n",
            "\tDefinition: an individual that one is not acquainted with\n",
            "Synset('plausibility.n.01')\n",
            "\tDefinition: apparent validity\n",
            "Synset('sever.v.01')\n",
            "\tDefinition: set or keep apart\n"
          ]
        }
      ],
      "source": [
        "for synset in target_synsets:\n",
        "    wn_synset=wn.synset(synset)\n",
        "    print(wn_synset)\n",
        "    print(\"\\tDefinition:\", wn_synset.definition())"
      ]
    },
    {
      "cell_type": "markdown",
      "id": "cff98e02",
      "metadata": {
        "id": "cff98e02"
      },
      "source": [
        "Here are the words that do not exist in WordNet now but that we want to add.  Each element of the tuple is (word, definition)."
      ]
    },
    {
      "cell_type": "code",
      "execution_count": 50,
      "id": "20eae7c7",
      "metadata": {
        "id": "20eae7c7"
      },
      "outputs": [],
      "source": [
        "urban_dictionary_terms: List[Tuple[str, str]] = [\n",
        "    (\"Crowdfunding\", \"the practice of obtaining needed funding (as for a new business) by soliciting contributions from a large number of people especially from the online community\"), \n",
        "    (\"Hygge\", \"a cozy quality that makes a person feel content and comfortable\"), \n",
        "    (\"biohacking\", \"biological experimentation (as by gene editing or the use of drugs or implants) done to improve the qualities or capabilities of living organisms especially by individuals and groups working outside a traditional medical or scientific research environment\"), \n",
        "    (\"TL;DR\", \"a briefly expressed main point or key message that summarizes a longer discussion or explanation\"), \n",
        "    (\"Hellacious\", \"Exceptionally powerful or violent; remarkably good; extremely difficult; extraordinarily large\"), \n",
        "    (\"Unfriend\", \"To remove from one's list of friends (e.g. on a social networking website)\"), \n",
        "    (\"Infodemic\", \"A wide and rapid spread of misinformation through various media, namely social media\"),\n",
        "    (\"Onboarding\", \"The act or process of orienting and training a new employee\"), \n",
        "    (\"Truthiness\", \"something that seems true but isn’t backed up by evidence\"), \n",
        "    (\"Amotivational\", \"Relating to, or characterised by, a lack of motivation\"), \n",
        "    (\"NSFW\", \"Not Safe For Work. Used to describe Internet content generally inappropriate for the typical workplace, i.e., would not be acceptable in the presence of your boss and colleagues\"),\n",
        "    (\"Rando\", \"a person who is not known or recognizable or whose appearance (as in a conversation or narrative) seems unprompted or unwelcome\")\n",
        "]"
      ]
    },
    {
      "cell_type": "markdown",
      "id": "890ffff6",
      "metadata": {
        "id": "890ffff6"
      },
      "source": [
        "Your task here is to develop two different methods for finding the best matching synset.\n",
        "1. Find the WordNet synset with the highest cosine similarity between the average GloVe embeddings of its synset definition and the average GloVe embeddings of the new word definition.\n",
        "2. Find the WordNet synset with the highest cosine similarity between the sentence embedding its synset definition and the sentence embedding of the new word definition."
      ]
    },
    {
      "cell_type": "markdown",
      "id": "afcfbfde",
      "metadata": {
        "id": "afcfbfde"
      },
      "source": [
        "Here is some code for reading in Glove embeddings:\n"
      ]
    },
    {
      "cell_type": "code",
      "execution_count": 51,
      "id": "6204372b",
      "metadata": {
        "id": "6204372b"
      },
      "outputs": [],
      "source": [
        "def read_vectors(filename: str):\n",
        "    vocab_map={}\n",
        "    embeddings=[]\n",
        "    with(open(filename, encoding=\"utf-8\")) as file:\n",
        "        for idx, line in enumerate(file):\n",
        "            cols=line.rstrip().split(\" \")\n",
        "            word=cols[0]\n",
        "            embedding=cols[1:]\n",
        "\n",
        "            embeddings.append(embedding)\n",
        "            vocab_map[word]=idx\n",
        "    \n",
        "    return vocab_map, np.array(embeddings, dtype=\"float\")"
      ]
    },
    {
      "cell_type": "code",
      "execution_count": null,
      "id": "90c21c48",
      "metadata": {
        "id": "90c21c48"
      },
      "outputs": [],
      "source": [
        "glove_vocab_map, glove_embeddings=read_vectors(\"glove.6B.100d.100K.txt\")"
      ]
    },
    {
      "cell_type": "markdown",
      "id": "f398eaec",
      "metadata": {
        "id": "f398eaec"
      },
      "source": [
        "Here is some code for loading the sentence transformer package:"
      ]
    },
    {
      "cell_type": "code",
      "execution_count": 53,
      "id": "82797d7d",
      "metadata": {
        "id": "82797d7d",
        "colab": {
          "base_uri": "https://localhost:8080/"
        },
        "outputId": "723610d8-bc81-4662-a243-7dbc2836a00d"
      },
      "outputs": [
        {
          "output_type": "stream",
          "name": "stdout",
          "text": [
            "(768,)\n"
          ]
        }
      ],
      "source": [
        "sentence_model = SentenceTransformer('sentence-transformers/all-distilroberta-v1')\n",
        "\n",
        "sentence_vector=sentence_model.encode(\"this is a sentence\")\n",
        "print(sentence_vector.shape)\n"
      ]
    },
    {
      "cell_type": "markdown",
      "id": "CEciw_iyhWZ3",
      "metadata": {
        "id": "CEciw_iyhWZ3"
      },
      "source": [
        "Here's an implementation of cosine similarity that you will find useful."
      ]
    },
    {
      "cell_type": "code",
      "execution_count": 166,
      "id": "uQU8eoHKhJ4h",
      "metadata": {
        "id": "uQU8eoHKhJ4h"
      },
      "outputs": [],
      "source": [
        "def cosine_similarity(one, two):\n",
        "    return np.dot(one, two) / (np.linalg.norm(one) * np.linalg.norm(two))"
      ]
    },
    {
      "cell_type": "markdown",
      "id": "102ce6a9",
      "metadata": {
        "id": "102ce6a9"
      },
      "source": [
        "#### Q1. Implement the first method as `method_one` below.\n",
        "\n",
        "As mentioned above, you should compute the average GloVe embedding of the UD word definition and use cosine similarity to compare it with the average GloVe embedding of the synset definitions. For each UD word, choose the definition that maximizes the cosine similarity with its definition. Here are some things you need to do when calculating the average GloVe embedding of a sentence:\n",
        "- Use `nltk.word_tokenize()` to tokenize the sentence.\n",
        "- Treat everything as lowercase.\n",
        "- Skip any tokens which don't appear in the GloVe vocabulary.\n",
        "- Calculate the average value of the embedding vectors, which will be another vector of the same shape.\n",
        "\n",
        "Your function should return a dictionary mapping each urban dictionary term to a WordNet synset ID, e.g.:\n",
        "\n",
        "`{\n",
        " \"adore\" : \"love.v.01\",\n",
        " \"dripping\" : \"stylish.a.01\"    \n",
        " }`\n",
        "\n",
        " Please make sure that any helper functions that you use are defined *within* `method_one`! That will help us extract your code more easily with the autograder."
      ]
    },
    {
      "cell_type": "code",
      "execution_count": 324,
      "id": "5737fbe2",
      "metadata": {
        "id": "5737fbe2"
      },
      "outputs": [],
      "source": [
        "def method_one(urban_dictionary_terms: List[Tuple[str, str]], target_synsets: List[str]):\n",
        "    \"\"\"\n",
        "    Method 1: an algorithm based on GloVe embeddings that maps each urban dictionary term to a synset ID.\n",
        "\n",
        "    Parameters\n",
        "    ----------\n",
        "    urban_dictionary_terms : List[Tuple[str, str]]\n",
        "        a list of string 2-tuples where the first elements are words, second elements are definitions.\n",
        "    target_synsets : List[str]\n",
        "        a list of synset IDs that the words should be classified into.\n",
        "        You can call `wn.synset(\"<synset ID>\")` to get the synset object.\n",
        "    \n",
        "    Returns\n",
        "    --------\n",
        "    A dictionary mapping each urban dictionary term to a WordNet synet ID, e.g.\n",
        "    `{\"adore\" : \"love.v.01\", \"dripping\" : \"stylish.a.01\"}`\n",
        "    \n",
        "    \"\"\"\n",
        "    dic = {}\n",
        "    list_s = []\n",
        "    for synset in target_synsets:\n",
        "      s_def = wn.synset(synset).definition().lower()\n",
        "      s_def = nltk.word_tokenize(s_def)\n",
        "      words = [i for i in s_def if i in glove_vocab_map.keys()]\n",
        "      emb = [glove_embeddings[glove_vocab_map[i]] for i in words]\n",
        "      avg_syn = np.mean(emb, axis = 0)\n",
        "      # print(avg_syn.shape)\n",
        "      # print(avg_syn)\n",
        "      list_s.append(avg_syn)\n",
        "    \n",
        "    for (word, definition) in urban_dictionary_terms:\n",
        "      definition = definition.lower()\n",
        "      definition = nltk.word_tokenize(definition)\n",
        "      definition = [i for i in definition if i in glove_vocab_map.keys()]\n",
        "      embeddings = [glove_embeddings[glove_vocab_map[i]] for i in definition]\n",
        "      avg_glove = [np.mean(embeddings, axis = 0)]\n",
        "      # print(avg_glove.shape)\n",
        "      cosine_similarities = [cosine_similarity(avg_glove, i) for i in list_s]\n",
        "      max_cos = max(cosine_similarities)\n",
        "      for i in np.arange(len(cosine_similarities)):\n",
        "        if cosine_similarities[i] == max_cos:\n",
        "          index = i\n",
        "          dic[word] = target_synsets[index]\n",
        "\n",
        "    return dic"
      ]
    },
    {
      "cell_type": "code",
      "execution_count": 325,
      "id": "b69452b2",
      "metadata": {
        "id": "b69452b2",
        "colab": {
          "base_uri": "https://localhost:8080/"
        },
        "outputId": "97861c5e-0448-4ad5-e3a9-583f07ac41a0"
      },
      "outputs": [
        {
          "output_type": "execute_result",
          "data": {
            "text/plain": [
              "{'Amotivational': 'kernel.n.03',\n",
              " 'Crowdfunding': 'spread.n.01',\n",
              " 'Hellacious': 'formidable.s.01',\n",
              " 'Hygge': 'stranger.n.02',\n",
              " 'Infodemic': 'spread.n.01',\n",
              " 'NSFW': 'stranger.n.02',\n",
              " 'Onboarding': 'orientation.n.06',\n",
              " 'Rando': 'stranger.n.02',\n",
              " 'TL;DR': 'stranger.n.02',\n",
              " 'Truthiness': 'stranger.n.02',\n",
              " 'Unfriend': 'stranger.n.02',\n",
              " 'biohacking': 'kernel.n.03'}"
            ]
          },
          "metadata": {},
          "execution_count": 325
        }
      ],
      "source": [
        "method_one_results=method_one(urban_dictionary_terms, target_synsets)\n",
        "method_one_results"
      ]
    },
    {
      "cell_type": "markdown",
      "id": "0b862967",
      "metadata": {
        "id": "0b862967"
      },
      "source": [
        "#### Q2. Implement your second method as `method_two` below.\n",
        "\n",
        "In this function, you should compute the cosine similarity between the sentence embedding of the UD word definition and those of the synsets, then for each UD word, choose the synset with the highest cosine similarity. For consistency, use the sentence transformer model called `sentence-transformers/all-distilroberta-v1`.\n",
        "\n",
        "Your function must also return a dictionary mapping each urban dictionary term to a WordNet synset ID, e.g.:\n",
        "\n",
        "`{\n",
        " \"adore\" : \"love.v.01\",\n",
        " \"dripping\" : \"stylish.a.01\"    \n",
        " }`\n",
        "\n",
        "As before, please make sure that any helper functions that you use are defined *within* `method_two`! That will help us extract your code more easily with the autograder."
      ]
    },
    {
      "cell_type": "code",
      "execution_count": 330,
      "id": "7d2b70a3",
      "metadata": {
        "id": "7d2b70a3"
      },
      "outputs": [],
      "source": [
        "def method_two(urban_dictionary_terms: List[Tuple[str, str]], target_synsets: List[str]):\n",
        "    \"\"\"\n",
        "    Method 2: an algorithm based on sentence embeddings that maps each urban dictionary term to a synset ID.\n",
        "\n",
        "    Parameters\n",
        "    ----------\n",
        "    urban_dictionary_terms : List[Tuple[str, str]]\n",
        "        a list of string 2-tuples where the first elements are words, second elements are definitions.\n",
        "    target_synsets : List[str]\n",
        "        a list of synset IDs that the words should be classified into.\n",
        "        You can call `wn.synset(\"<synset ID>\")` to get the synset object.\n",
        "    \n",
        "    Returns\n",
        "    --------\n",
        "    A dictionary mapping each urban dictionary term to a WordNet synet ID, e.g.\n",
        "    `{\"adore\" : \"love.v.01\", \"dripping\" : \"stylish.a.01\"}`\n",
        "    \n",
        "    \"\"\"\n",
        "\n",
        "    dic = {}\n",
        "    list_s = []\n",
        "    for synset in target_synsets:\n",
        "      s_def = wn.synset(synset).definition()\n",
        "      s_vector = sentence_model.encode(s_def)\n",
        "      # print(s_vector.shape)\n",
        "      # print(avg_syn)\n",
        "      list_s.append(s_vector)\n",
        "    \n",
        "    for (word, definition) in urban_dictionary_terms:\n",
        "      w_vector = sentence_model.encode(definition)\n",
        "      cosine_similarities = [cosine_similarity(w_vector, i) for i in list_s]\n",
        "      # print(cosine_similarities)\n",
        "      max_cos = max(cosine_similarities)\n",
        "      for i in np.arange(len(cosine_similarities)):\n",
        "        if cosine_similarities[i] == max_cos:\n",
        "          index = i\n",
        "          dic[word] = target_synsets[index]\n",
        "    return dic\n"
      ]
    },
    {
      "cell_type": "code",
      "execution_count": 331,
      "id": "285b848a",
      "metadata": {
        "id": "285b848a",
        "colab": {
          "base_uri": "https://localhost:8080/"
        },
        "outputId": "165e6144-606c-4304-ea61-1158dd9829f6"
      },
      "outputs": [
        {
          "output_type": "execute_result",
          "data": {
            "text/plain": [
              "{'Amotivational': 'faineant.s.01',\n",
              " 'Crowdfunding': 'fund-raise.v.01',\n",
              " 'Hellacious': 'formidable.s.01',\n",
              " 'Hygge': 'coziness.n.01',\n",
              " 'Infodemic': 'spread.n.01',\n",
              " 'NSFW': 'faineant.s.01',\n",
              " 'Onboarding': 'orientation.n.06',\n",
              " 'Rando': 'stranger.n.02',\n",
              " 'TL;DR': 'kernel.n.03',\n",
              " 'Truthiness': 'plausibility.n.01',\n",
              " 'Unfriend': 'stranger.n.02',\n",
              " 'biohacking': 'mutation.n.02'}"
            ]
          },
          "metadata": {},
          "execution_count": 331
        }
      ],
      "source": [
        "method_two_results=method_two(urban_dictionary_terms, target_synsets)\n",
        "method_two_results"
      ]
    },
    {
      "cell_type": "markdown",
      "id": "5f329391",
      "metadata": {
        "id": "5f329391"
      },
      "source": [
        "#### Q3: Define an evaluation metric (accuracy).  \n",
        "\n",
        "Throughout this semester we've stressed how critical evaluation is for any NLP method.  Implement a function `accuracy` that assesses quality of the dictionaries you return from `method_one` and `method_two`.  This accuracy function should return a single real number (the accuracy), and its input parameters are a prediction dict (the output of your model) and a truth dict (which you will need to create based on your own judgement). Make sure that the accuracies you calculate for the two methods match what you expect. "
      ]
    },
    {
      "cell_type": "code",
      "execution_count": 335,
      "id": "938b9fcd",
      "metadata": {
        "id": "938b9fcd"
      },
      "outputs": [],
      "source": [
        "def accuracy(prediction: Dict[str, str], truth: Dict[str, str]) -> float:\n",
        "    num = len(prediction.keys())\n",
        "    correct = 0\n",
        "\n",
        "    for word in prediction.keys(): \n",
        "      if prediction[word] == truth[word]:\n",
        "        correct += 1\n",
        "\n",
        "    return correct/num * 100"
      ]
    },
    {
      "cell_type": "code",
      "execution_count": 336,
      "id": "766150ed",
      "metadata": {
        "id": "766150ed"
      },
      "outputs": [],
      "source": [
        "truth = {'Crowdfunding': 'fund-raise.v.01',\n",
        "         'Hygge': 'coziness.n.01',\n",
        "         'biohacking': 'mutation.n.02',\n",
        "         'TL;DR': 'kernel.n.03',\n",
        "         'Hellacious': 'formidable.s.01',\n",
        "         'Unfriend': 'sever.v.01',\n",
        "         'Infodemic': 'spread.n.01',\n",
        "         'Onboarding': 'orientation.n.06',\n",
        "         'Truthiness': 'plausibility.n.01',\n",
        "         'Amotivational': 'faineant.s.01',\n",
        "         'NSFW': 'inappropriate.a.01',\n",
        "         'Rando': 'stranger.n.02'}"
      ]
    },
    {
      "cell_type": "code",
      "execution_count": 337,
      "id": "9ea46c6b",
      "metadata": {
        "id": "9ea46c6b",
        "colab": {
          "base_uri": "https://localhost:8080/"
        },
        "outputId": "9d829803-94fe-4982-e19a-197729038a48"
      },
      "outputs": [
        {
          "output_type": "stream",
          "name": "stdout",
          "text": [
            "25.0\n"
          ]
        }
      ],
      "source": [
        "print(accuracy(method_one_results, truth))"
      ]
    },
    {
      "cell_type": "code",
      "execution_count": 338,
      "id": "c0135985",
      "metadata": {
        "id": "c0135985",
        "colab": {
          "base_uri": "https://localhost:8080/"
        },
        "outputId": "be9f2721-4297-4aad-d93e-1df9c67698be"
      },
      "outputs": [
        {
          "output_type": "stream",
          "name": "stdout",
          "text": [
            "75.0\n"
          ]
        }
      ],
      "source": [
        "print(accuracy(method_two_results, truth))"
      ]
    },
    {
      "cell_type": "markdown",
      "id": "8eZv8eZJ8sfE",
      "metadata": {
        "id": "8eZv8eZJ8sfE"
      },
      "source": [
        "That concludes homework 6! To submit, just upload this .ipynb file to Gradescope."
      ]
    },
    {
      "cell_type": "markdown",
      "id": "djEZMMFT7j5G",
      "metadata": {
        "id": "djEZMMFT7j5G"
      },
      "source": [
        "#### Q4 (optional)\n",
        "\n",
        "Use the two methods you've defined to find the best-matching synset within the **entire** WordNet. Do the results make sense? Is one method consistently better than the other? Why?\n",
        "\n",
        "Here's a reminder of how to iterate through all synsets:"
      ]
    },
    {
      "cell_type": "code",
      "execution_count": null,
      "id": "6M_gxGMo7g2T",
      "metadata": {
        "id": "6M_gxGMo7g2T"
      },
      "outputs": [],
      "source": [
        "for idx, synset in enumerate(wn.all_synsets()):\n",
        "   print(idx, synset)\n",
        "   if (idx > 10): break"
      ]
    },
    {
      "cell_type": "code",
      "execution_count": null,
      "id": "z7Jpm8zN726O",
      "metadata": {
        "id": "z7Jpm8zN726O"
      },
      "outputs": [],
      "source": [
        ""
      ]
    }
  ],
  "metadata": {
    "colab": {
      "collapsed_sections": [],
      "name": "HW6 student.ipynb",
      "provenance": [],
      "toc_visible": true
    },
    "kernelspec": {
      "display_name": "Python 3 (ipykernel)",
      "language": "python",
      "name": "python3"
    },
    "language_info": {
      "codemirror_mode": {
        "name": "ipython",
        "version": 3
      },
      "file_extension": ".py",
      "mimetype": "text/x-python",
      "name": "python",
      "nbconvert_exporter": "python",
      "pygments_lexer": "ipython3",
      "version": "3.8.2"
    }
  },
  "nbformat": 4,
  "nbformat_minor": 5
}