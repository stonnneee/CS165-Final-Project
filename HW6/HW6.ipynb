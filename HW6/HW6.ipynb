{
  "cells": [
    {
      "cell_type": "markdown",
      "id": "54f0112f",
      "metadata": {
        "id": "54f0112f"
      },
      "source": [
        "<a href=\"https://colab.research.google.com/github/dbamman/nlp22/blob/main/HW6/HW6.ipynb\" target=\"_parent\"><img src=\"https://colab.research.google.com/assets/colab-badge.svg\" alt=\"Open In Colab\"/></a>"
      ]
    },
    {
      "cell_type": "markdown",
      "id": "0a4f183a",
      "metadata": {
        "id": "0a4f183a"
      },
      "source": [
        "## Homework 6\n",
        "\n",
        "In this homework, you will be working with WordNet synsets and exploring methods to align new words (not in WordNet) with an existing synset."
      ]
    },
    {
      "cell_type": "code",
      "execution_count": null,
      "id": "0adaa568",
      "metadata": {
        "id": "0adaa568"
      },
      "outputs": [],
      "source": [
        "import nltk\n",
        "import math\n",
        "from nltk import word_tokenize\n",
        "from nltk.corpus import wordnet as wn\n",
        "import numpy as np\n",
        "from typing import List, Tuple, Dict\n",
        "\n",
        "nltk.download('wordnet')\n",
        "nltk.download('punkt')\n",
        "!wget https://people.ischool.berkeley.edu/~dbamman/glove.6B.100d.100K.txt\n",
        "!pip install sentence_transformers\n",
        "from sentence_transformers import SentenceTransformer"
      ]
    },
    {
      "cell_type": "markdown",
      "id": "9c188261",
      "metadata": {
        "id": "9c188261"
      },
      "source": [
        "# Preliminaries: WordNet"
      ]
    },
    {
      "cell_type": "markdown",
      "id": "dd0cba00",
      "metadata": {
        "id": "dd0cba00"
      },
      "source": [
        "NLTK provides a great interface to the WordNet ontology.  Remember that core unit within WordNet is the **synset** (a category of near-synonyms).  A word (like \"blue\") can appear in many different synsets, each corresponding to a distinct *sense* of that word."
      ]
    },
    {
      "cell_type": "code",
      "execution_count": 42,
      "id": "852cf585",
      "metadata": {
        "id": "852cf585",
        "colab": {
          "base_uri": "https://localhost:8080/"
        },
        "outputId": "599c4397-1080-4e43-999a-d69e26cb25cf"
      },
      "outputs": [
        {
          "output_type": "stream",
          "name": "stdout",
          "text": [
            "Synset('blue.n.01') blue color or pigment; resembling the color of the clear sky in the daytime\n",
            "Synset('blue.n.02') blue clothing\n",
            "Synset('blue.n.03') any organization or party whose uniforms or badges are blue\n",
            "Synset('blue_sky.n.01') the sky as viewed during daylight\n",
            "Synset('bluing.n.01') used to whiten laundry or hair or give it a bluish tinge\n",
            "Synset('amobarbital_sodium.n.01') the sodium salt of amobarbital that is used as a barbiturate; used as a sedative and a hypnotic\n",
            "Synset('blue.n.07') any of numerous small butterflies of the family Lycaenidae\n",
            "Synset('blue.v.01') turn blue\n",
            "Synset('blue.s.01') of the color intermediate between green and violet; having a color similar to that of a clear unclouded sky\n",
            "Synset('blue.s.02') used to signify the Union forces in the American Civil War (who wore blue uniforms)\n",
            "Synset('gloomy.s.02') filled with melancholy and despondency\n",
            "Synset('blasphemous.s.02') characterized by profanity or cursing\n",
            "Synset('blue.s.05') suggestive of sexual impropriety\n",
            "Synset('aristocratic.s.01') belonging to or characteristic of the nobility or aristocracy\n",
            "Synset('blue.s.07') morally rigorous and strict\n",
            "Synset('blue.s.08') causing dejection\n"
          ]
        }
      ],
      "source": [
        "# get all of the synsets that a specific word belongs to; print their definitions\n",
        "\n",
        "synsets=wn.synsets('blue')\n",
        "for synset in synsets:\n",
        "    print (synset, synset.definition())"
      ]
    },
    {
      "cell_type": "markdown",
      "id": "28f268c3",
      "metadata": {
        "id": "28f268c3"
      },
      "source": [
        "Any given synset will likewise contain multiple different words (all near-synonyms of each other)."
      ]
    },
    {
      "cell_type": "code",
      "execution_count": 43,
      "id": "5f809838",
      "metadata": {
        "id": "5f809838",
        "colab": {
          "base_uri": "https://localhost:8080/"
        },
        "outputId": "6a7bf2ec-4918-4383-ab42-987f90f27e20"
      },
      "outputs": [
        {
          "output_type": "stream",
          "name": "stdout",
          "text": [
            "gloomy\n",
            "grim\n",
            "blue\n",
            "depressed\n",
            "dispirited\n",
            "down\n",
            "downcast\n",
            "downhearted\n",
            "down_in_the_mouth\n",
            "low\n",
            "low-spirited\n"
          ]
        }
      ],
      "source": [
        "# get all of the words/phrase in a given synset\n",
        "\n",
        "for lemma in wn.synset(\"gloomy.s.02\").lemmas():\n",
        "    print (lemma.name())"
      ]
    },
    {
      "cell_type": "markdown",
      "id": "a7a2d1e5",
      "metadata": {
        "id": "a7a2d1e5"
      },
      "source": [
        "Remember also that one of the powerful things about WordNet is that it places synsets within a hierarchical structure; a given synset has both **hypernyms** (other synsets that it is a subclass of) and **hyponyms** (other synsets that are subclasses of it)."
      ]
    },
    {
      "cell_type": "code",
      "execution_count": 44,
      "id": "53b8ff2f",
      "metadata": {
        "id": "53b8ff2f"
      },
      "outputs": [],
      "source": [
        "# Functions from http://www.nltk.org/howto/wordnet.html to get *all* of a synset's hyponym/hypernyms\n",
        "\n",
        "hypo = lambda s: s.hyponyms()\n",
        "hyper = lambda s: s.hypernyms()"
      ]
    },
    {
      "cell_type": "markdown",
      "id": "033786e8",
      "metadata": {
        "id": "033786e8"
      },
      "source": [
        "Find all of the synsets that are hyponyms of the target synset (descendents in the WordNet hierarchy)"
      ]
    },
    {
      "cell_type": "code",
      "execution_count": 45,
      "id": "15a5988f",
      "metadata": {
        "id": "15a5988f",
        "colab": {
          "base_uri": "https://localhost:8080/"
        },
        "outputId": "460e4614-65c5-4b24-8495-166e6f050a2e"
      },
      "outputs": [
        {
          "output_type": "execute_result",
          "data": {
            "text/plain": [
              "[Synset('azure.n.01'),\n",
              " Synset('dark_blue.n.01'),\n",
              " Synset('greenish_blue.n.01'),\n",
              " Synset('powder_blue.n.01'),\n",
              " Synset('prussian_blue.n.02'),\n",
              " Synset('purplish_blue.n.01'),\n",
              " Synset('steel_blue.n.01'),\n",
              " Synset('ultramarine.n.02')]"
            ]
          },
          "metadata": {},
          "execution_count": 45
        }
      ],
      "source": [
        "list(wn.synset(\"blue.n.01\").closure(hypo))"
      ]
    },
    {
      "cell_type": "markdown",
      "id": "84b305eb",
      "metadata": {
        "id": "84b305eb"
      },
      "source": [
        "Find all of the synsets that are hyperyms (ancestors up the tree) of the target synset"
      ]
    },
    {
      "cell_type": "code",
      "execution_count": 46,
      "id": "2c22cece",
      "metadata": {
        "id": "2c22cece",
        "colab": {
          "base_uri": "https://localhost:8080/"
        },
        "outputId": "aaaed669-5b31-48ea-c23f-c826b7d3c68d"
      },
      "outputs": [
        {
          "output_type": "execute_result",
          "data": {
            "text/plain": [
              "[Synset('chromatic_color.n.01'),\n",
              " Synset('color.n.01'),\n",
              " Synset('visual_property.n.01'),\n",
              " Synset('property.n.02'),\n",
              " Synset('attribute.n.02'),\n",
              " Synset('abstraction.n.06'),\n",
              " Synset('entity.n.01')]"
            ]
          },
          "metadata": {},
          "execution_count": 46
        }
      ],
      "source": [
        "list(wn.synset(\"blue.n.01\").closure(hyper))"
      ]
    },
    {
      "cell_type": "markdown",
      "id": "5ac1001c",
      "metadata": {
        "id": "5ac1001c"
      },
      "source": [
        "Here's how you can access all of the synsets in WordNet through NLTK (though note executing this may take a while, so it's commented out)."
      ]
    },
    {
      "cell_type": "code",
      "execution_count": 47,
      "id": "449d8b45",
      "metadata": {
        "id": "449d8b45"
      },
      "outputs": [],
      "source": [
        "#for idx, synset in enumerate(wn.all_synsets()):\n",
        "#   print(idx, synset)\n",
        "#   if (idx > 10): break"
      ]
    },
    {
      "cell_type": "markdown",
      "id": "0b4cc005",
      "metadata": {
        "id": "0b4cc005"
      },
      "source": [
        "# Homework"
      ]
    },
    {
      "cell_type": "markdown",
      "id": "3cbe0f1a",
      "metadata": {
        "id": "3cbe0f1a"
      },
      "source": [
        "WordNet is a great resource, but one of its downsides is *coverage* -- many of the words in our vocabulay aren't in WordNet, but could conceivably be placed within existing synsets within it.  Your task for this homework is to develop two methods to finding the closest synset for a given new word from Urban Dictionary."
      ]
    },
    {
      "cell_type": "markdown",
      "id": "26301aaf",
      "metadata": {
        "id": "26301aaf"
      },
      "source": [
        "For the scope of this homework, we're only going to pretend that WordNet only has 12 different synsets within it (though feel free to use the `wn.all_synsets` function above if you wanted to explore running it on all of WordNet)."
      ]
    },
    {
      "cell_type": "code",
      "execution_count": 48,
      "id": "2f0c3485",
      "metadata": {
        "id": "2f0c3485"
      },
      "outputs": [],
      "source": [
        "target_synsets=['spread.n.01', 'formidable.s.01', 'coziness.n.01', 'mutation.n.02', 'kernel.n.03', 'faineant.s.01', 'fund-raise.v.01', 'orientation.n.06', 'inappropriate.a.01', 'stranger.n.02', 'plausibility.n.01', 'sever.v.01']"
      ]
    },
    {
      "cell_type": "code",
      "execution_count": 49,
      "id": "81f2c025",
      "metadata": {
        "id": "81f2c025",
        "colab": {
          "base_uri": "https://localhost:8080/"
        },
        "outputId": "a4f31bd0-ab51-4978-fa21-dd9db611e85f"
      },
      "outputs": [
        {
          "output_type": "stream",
          "name": "stdout",
          "text": [
            "Synset('spread.n.01')\n",
            "\tDefinition: process or result of distributing or extending over a wide expanse of space\n",
            "Synset('formidable.s.01')\n",
            "\tDefinition: extremely impressive in strength or excellence\n",
            "Synset('coziness.n.01')\n",
            "\tDefinition: a state of warm snug comfort\n",
            "Synset('mutation.n.02')\n",
            "\tDefinition: (genetics) any event that changes genetic structure; any alteration in the inherited nucleic acid sequence of the genotype of an organism\n",
            "Synset('kernel.n.03')\n",
            "\tDefinition: the choicest or most essential or most vital part of some idea or experience\n",
            "Synset('faineant.s.01')\n",
            "\tDefinition: disinclined to work or exertion\n",
            "Synset('fund-raise.v.01')\n",
            "\tDefinition: raise money for a cause or project\n",
            "Synset('orientation_course.n.01')\n",
            "\tDefinition: a course introducing a new situation or environment\n",
            "Synset('inappropriate.a.01')\n",
            "\tDefinition: not suitable for a particular occasion etc\n",
            "Synset('stranger.n.02')\n",
            "\tDefinition: an individual that one is not acquainted with\n",
            "Synset('plausibility.n.01')\n",
            "\tDefinition: apparent validity\n",
            "Synset('sever.v.01')\n",
            "\tDefinition: set or keep apart\n"
          ]
        }
      ],
      "source": [
        "for synset in target_synsets:\n",
        "    wn_synset=wn.synset(synset)\n",
        "    print(wn_synset)\n",
        "    print(\"\\tDefinition:\", wn_synset.definition())"
      ]
    },
    {
      "cell_type": "markdown",
      "id": "cff98e02",
      "metadata": {
        "id": "cff98e02"
      },
      "source": [
        "Here are the words that do not exist in WordNet now but that we want to add.  Each element of the tuple is (word, definition)."
      ]
    },
    {
      "cell_type": "code",
      "execution_count": 50,
      "id": "20eae7c7",
      "metadata": {
        "id": "20eae7c7"
      },
      "outputs": [],
      "source": [
        "urban_dictionary_terms: List[Tuple[str, str]] = [\n",
        "    (\"Crowdfunding\", \"the practice of obtaining needed funding (as for a new business) by soliciting contributions from a large number of people especially from the online community\"), \n",
        "    (\"Hygge\", \"a cozy quality that makes a person feel content and comfortable\"), \n",
        "    (\"biohacking\", \"biological experimentation (as by gene editing or the use of drugs or implants) done to improve the qualities or capabilities of living organisms especially by individuals and groups working outside a traditional medical or scientific research environment\"), \n",
        "    (\"TL;DR\", \"a briefly expressed main point or key message that summarizes a longer discussion or explanation\"), \n",
        "    (\"Hellacious\", \"Exceptionally powerful or violent; remarkably good; extremely difficult; extraordinarily large\"), \n",
        "    (\"Unfriend\", \"To remove from one's list of friends (e.g. on a social networking website)\"), \n",
        "    (\"Infodemic\", \"A wide and rapid spread of misinformation through various media, namely social media\"),\n",
        "    (\"Onboarding\", \"The act or process of orienting and training a new employee\"), \n",
        "    (\"Truthiness\", \"something that seems true but isn’t backed up by evidence\"), \n",
        "    (\"Amotivational\", \"Relating to, or characterised by, a lack of motivation\"), \n",
        "    (\"NSFW\", \"Not Safe For Work. Used to describe Internet content generally inappropriate for the typical workplace, i.e., would not be acceptable in the presence of your boss and colleagues\"),\n",
        "    (\"Rando\", \"a person who is not known or recognizable or whose appearance (as in a conversation or narrative) seems unprompted or unwelcome\")\n",
        "]"
      ]
    },
    {
      "cell_type": "markdown",
      "id": "890ffff6",
      "metadata": {
        "id": "890ffff6"
      },
      "source": [
        "Your task here is to develop two different methods for finding the best matching synset.\n",
        "1. Find the WordNet synset with the highest cosine similarity between the average GloVe embeddings of its synset definition and the average GloVe embeddings of the new word definition.\n",
        "2. Find the WordNet synset with the highest cosine similarity between the sentence embedding its synset definition and the sentence embedding of the new word definition."
      ]
    },
    {
      "cell_type": "markdown",
      "id": "afcfbfde",
      "metadata": {
        "id": "afcfbfde"
      },
      "source": [
        "Here is some code for reading in Glove embeddings:\n"
      ]
    },
    {
      "cell_type": "code",
      "execution_count": 51,
      "id": "6204372b",
      "metadata": {
        "id": "6204372b"
      },
      "outputs": [],
      "source": [
        "def read_vectors(filename: str):\n",
        "    vocab_map={}\n",
        "    embeddings=[]\n",
        "    with(open(filename, encoding=\"utf-8\")) as file:\n",
        "        for idx, line in enumerate(file):\n",
        "            cols=line.rstrip().split(\" \")\n",
        "            word=cols[0]\n",
        "            embedding=cols[1:]\n",
        "\n",
        "            embeddings.append(embedding)\n",
        "            vocab_map[word]=idx\n",
        "    \n",
        "    return vocab_map, np.array(embeddings, dtype=\"float\")"
      ]
    },
    {
      "cell_type": "code",
      "execution_count": null,
      "id": "90c21c48",
      "metadata": {
        "id": "90c21c48"
      },
      "outputs": [],
      "source": [
        "glove_vocab_map, glove_embeddings=read_vectors(\"glove.6B.100d.100K.txt\")"
      ]
    },
    {
      "cell_type": "markdown",
      "id": "f398eaec",
      "metadata": {
        "id": "f398eaec"
      },
      "source": [
        "Here is some code for loading the sentence transformer package:"
      ]
    },
    {
      "cell_type": "code",
      "execution_count": 53,
      "id": "82797d7d",
      "metadata": {
        "id": "82797d7d",
        "colab": {
          "base_uri": "https://localhost:8080/"
        },
        "outputId": "723610d8-bc81-4662-a243-7dbc2836a00d"
      },
      "outputs": [
        {
          "output_type": "stream",
          "name": "stdout",
          "text": [
            "(768,)\n"
          ]
        }
      ],
      "source": [
        "sentence_model = SentenceTransformer('sentence-transformers/all-distilroberta-v1')\n",
        "\n",
        "sentence_vector=sentence_model.encode(\"this is a sentence\")\n",
        "print(sentence_vector.shape)\n"
      ]
    },
    {
      "cell_type": "markdown",
      "id": "CEciw_iyhWZ3",
      "metadata": {
        "id": "CEciw_iyhWZ3"
      },
      "source": [
        "Here's an implementation of cosine similarity that you will find useful."
      ]
    },
    {
      "cell_type": "code",
      "execution_count": 166,
      "id": "uQU8eoHKhJ4h",
      "metadata": {
        "id": "uQU8eoHKhJ4h"
      },
      "outputs": [],
      "source": [
        "def cosine_similarity(one, two):\n",
        "    return np.dot(one, two) / (np.linalg.norm(one) * np.linalg.norm(two))"
      ]
    },
    {
      "cell_type": "markdown",
      "id": "102ce6a9",
      "metadata": {
        "id": "102ce6a9"
      },
      "source": [
        "#### Q1. Implement the first method as `method_one` below.\n",
        "\n",
        "As mentioned above, you should compute the average GloVe embedding of the UD word definition and use cosine similarity to compare it with the average GloVe embedding of the synset definitions. For each UD word, choose the definition that maximizes the cosine similarity with its definition. Here are some things you need to do when calculating the average GloVe embedding of a sentence:\n",
        "- Use `nltk.word_tokenize()` to tokenize the sentence.\n",
        "- Treat everything as lowercase.\n",
        "- Skip any tokens which don't appear in the GloVe vocabulary.\n",
        "- Calculate the average value of the embedding vectors, which will be another vector of the same shape.\n",
        "\n",
        "Your function should return a dictionary mapping each urban dictionary term to a WordNet synset ID, e.g.:\n",
        "\n",
        "`{\n",
        " \"adore\" : \"love.v.01\",\n",
        " \"dripping\" : \"stylish.a.01\"    \n",
        " }`\n",
        "\n",
        " Please make sure that any helper functions that you use are defined *within* `method_one`! That will help us extract your code more easily with the autograder."
      ]
    },
    {
      "cell_type": "code",
      "execution_count": 256,
      "id": "5737fbe2",
      "metadata": {
        "id": "5737fbe2"
      },
      "outputs": [],
      "source": [
        "def method_one(urban_dictionary_terms: List[Tuple[str, str]], target_synsets: List[str]):\n",
        "    \"\"\"\n",
        "    Method 1: an algorithm based on GloVe embeddings that maps each urban dictionary term to a synset ID.\n",
        "\n",
        "    Parameters\n",
        "    ----------\n",
        "    urban_dictionary_terms : List[Tuple[str, str]]\n",
        "        a list of string 2-tuples where the first elements are words, second elements are definitions.\n",
        "    target_synsets : List[str]\n",
        "        a list of synset IDs that the words should be classified into.\n",
        "        You can call `wn.synset(\"<synset ID>\")` to get the synset object.\n",
        "    \n",
        "    Returns\n",
        "    --------\n",
        "    A dictionary mapping each urban dictionary term to a WordNet synet ID, e.g.\n",
        "    `{\"adore\" : \"love.v.01\", \"dripping\" : \"stylish.a.01\"}`\n",
        "    \n",
        "    \"\"\"\n",
        "    dic = {}\n",
        "    []\n",
        "    for synset in target_synsets:\n",
        "      s_def = wn.synset(synset).definition().lower()\n",
        "      s_def = nltk.word_tokenize(s_def)\n",
        "      words = [i for i in s_def if i in glove_vocab_map.keys()]\n",
        "      emb = [glove_embeddings[glove_vocab_map[i]] for i in words]\n",
        "      avg_syn = np.mean(emb, axis = 0)\n",
        "      # print(avg_syn.shape)\n",
        "      print(avg_syn)\n",
        " \n",
        "    \n",
        "    for (word, definition) in urban_dictionary_terms:\n",
        "      definition = definition.lower()\n",
        "      definition = nltk.word_tokenize(definition)\n",
        "      definition = [i for i in definition if i in glove_vocab_map.keys()]\n",
        "      embeddings = [glove_embeddings[glove_vocab_map[i]] for i in definition]\n",
        "      avg_glove = [np.mean(embeddings, axis = 0)]\n",
        "      # print(avg_glove.shape)\n",
        "      cosine_similarities = [cosine_similarity(avg_glove, i) for i in avg_syn]\n",
        "      #print(cosine_similarities)\n",
        "      #index\n",
        "      #dic[word] = target_synsets[index]\n",
        "\n",
        "    return dic"
      ]
    },
    {
      "cell_type": "code",
      "execution_count": 257,
      "id": "b69452b2",
      "metadata": {
        "id": "b69452b2",
        "colab": {
          "base_uri": "https://localhost:8080/"
        },
        "outputId": "a73cab96-0b23-40b2-999b-ce35f67d349e"
      },
      "outputs": [
        {
          "output_type": "stream",
          "name": "stdout",
          "text": [
            "[-0.13979085  0.25173964  0.31210308  0.19772677  0.30756854  0.27845715\n",
            " -0.18350162  0.27643692 -0.274863    0.20710338  0.030425   -0.01195032\n",
            "  0.18854331 -0.06258777  0.44983338 -0.30276031  0.12291077  0.04987169\n",
            " -0.06868768  0.02632362  0.04373977  0.17740509  0.23731923 -0.08435854\n",
            "  0.43377523 -0.042307    0.04441248 -0.20313385 -0.15402615 -0.18485477\n",
            " -0.03767551  0.19361931 -0.09433246 -0.13352277 -0.07333231 -0.02014023\n",
            "  0.21079492  0.26759862 -0.15535569  0.14460569 -0.34745715 -0.47882531\n",
            "  0.19241248 -0.18085923 -0.02622138 -0.06590446  0.10791477 -0.056184\n",
            " -0.14464923 -0.41919138  0.28804462  0.06798538  0.05270046  1.06790154\n",
            " -0.22234077 -2.14068     0.12563983 -0.26031246  1.77805     0.35219\n",
            " -0.07277454  0.54192354  0.03730538  0.07241025  0.71223985  0.02226192\n",
            "  0.46166846 -0.02259546  0.29328062 -0.27002008 -0.07624231 -0.03336092\n",
            " -0.13716846 -0.17583677  0.09699454  0.05989903 -0.18032462  0.16882952\n",
            " -0.79865615  0.21555308  0.58599054  0.12433892 -0.49395577  0.37939377\n",
            " -1.12411462  0.12565692  0.25749946 -0.096311    0.21403138 -0.24255077\n",
            " -0.11521954 -0.02609062 -0.32234777  0.07465169 -0.26229685 -0.14950238\n",
            " -0.14975031 -0.2341084   0.69447878  0.03774785]\n",
            "[-9.51873333e-02  2.47064667e-01  1.01595000e-02  3.22400000e-02\n",
            " -4.20013333e-02 -5.51880000e-02 -1.27764333e-01  2.97950000e-02\n",
            " -5.27286667e-01  2.82526667e-01 -8.34333333e-03 -3.80659167e-01\n",
            "  1.88094333e-01 -9.74556667e-02 -1.43454667e-01 -1.62979000e-01\n",
            "  1.18415167e-01  9.53433333e-02 -8.74748333e-02  4.62826667e-01\n",
            "  1.12508333e-01 -1.28013333e-02  1.11563333e-01 -3.38381667e-02\n",
            "  2.89282000e-01  1.21500000e-04  5.65463333e-02 -2.94773333e-01\n",
            "  1.27276667e-02 -1.45268333e-01 -1.26980000e-01  1.93452833e-01\n",
            " -2.49263500e-01 -8.76388333e-02  3.61703333e-01  5.20783333e-02\n",
            " -1.68525000e-01  3.39993333e-01 -3.80920667e-01  5.53053333e-02\n",
            "  3.59233333e-03 -2.14661667e-01  9.59533333e-02 -2.60501667e-01\n",
            "  6.75590000e-02 -2.55279667e-01  6.54790000e-01 -1.27874333e-01\n",
            " -7.64915000e-02 -9.33178333e-01  7.12763333e-02 -6.54950000e-02\n",
            "  2.14795000e-01  9.95585000e-01 -2.56294500e-02 -2.05570000e+00\n",
            "  2.88018167e-01 -4.05568833e-01  1.31191667e+00  1.20873333e-01\n",
            " -2.10666667e-01  6.53975000e-01 -4.40700000e-01  2.62458333e-01\n",
            "  3.02975833e-01 -1.14235000e-01  3.42378333e-01 -1.30912167e-01\n",
            "  5.60721667e-01 -6.84245000e-02  2.17563333e-01 -6.79966667e-03\n",
            " -1.36804000e-01 -1.31240000e-01  4.61688167e-01  1.42472500e-01\n",
            " -2.40396833e-01  2.41481667e-02 -3.90026667e-01 -5.17333333e-02\n",
            "  3.43553333e-01  2.46888333e-01 -5.06557833e-01  1.71266667e-02\n",
            " -1.00871000e+00 -1.22278667e-01  1.43611667e-01 -1.34640000e-01\n",
            " -1.32775500e-01 -2.75644833e-01 -3.44183333e-02 -2.73788333e-02\n",
            " -3.13486667e-02  4.44588333e-01 -3.04058167e-01  1.60898333e-01\n",
            " -3.86575000e-01 -7.04758833e-01  6.27488333e-01  2.66778333e-01]\n",
            "[-0.30870775  0.17541767  0.543715   -0.07391667 -0.01141111  0.40813667\n",
            " -0.0769115   0.25825667 -0.667765    0.199525   -0.41705667 -0.0580702\n",
            "  0.20669667  0.22944433  0.39476667 -0.31496833  0.34361333 -0.2624805\n",
            " -0.21638133 -0.03934567  0.2141945   0.20723567  0.2838     -0.32258017\n",
            " -0.05227417  0.0154555  -0.29933833 -0.38239367 -0.16238267 -0.29437833\n",
            "  0.04115033  0.13540567 -0.0100055  -0.00479617 -0.05853867  0.30215333\n",
            "  0.16089     0.398613    0.12580233 -0.1833635  -0.08030983 -0.52920317\n",
            "  0.3722815  -0.32971167  0.1223639   0.0407555   0.23314433  0.18655\n",
            "  0.16628833 -0.52736333  0.02496117 -0.30538667  0.24370167  0.58575333\n",
            " -0.1789755  -2.22395333  0.41907533 -0.36956833  1.29299667  0.01806833\n",
            " -0.13505433  0.493355   -0.102695    0.11269272  0.38406557  0.14541303\n",
            "  0.3496715   0.100703    0.10171817 -0.22782     0.0779     -0.08708283\n",
            "  0.18469683 -0.042305    0.34880833  0.600802   -0.06384167 -0.2503855\n",
            " -0.511455    0.07021167  0.32823667  0.16971033 -0.39148583  0.343604\n",
            " -0.79562733  0.06347162 -0.02673583  0.061595    0.014341   -0.464215\n",
            "  0.25296683 -0.05604833 -0.0182265   0.0056195  -0.3092775  -0.01208667\n",
            " -0.16779333 -0.23982833  0.41427     0.15631   ]\n",
            "[-0.08519412  0.16553233  0.40272696 -0.07225592 -0.0587378   0.05737334\n",
            " -0.02592691  0.02547125 -0.29558137  0.23908554  0.11327038 -0.00818369\n",
            "  0.18226125  0.13899358  0.41230804  0.1502515   0.11562092  0.06424242\n",
            "  0.04595331  0.12368812 -0.04026846 -0.34230421  0.24030917  0.11147527\n",
            "  0.140901   -0.15674458  0.13260725 -0.30328167 -0.02676012 -0.12430179\n",
            " -0.10249582  0.49479096 -0.04926183 -0.15088992  0.03254146 -0.17354923\n",
            "  0.19779192  0.39585487 -0.13804196 -0.01961913 -0.2935895  -0.25050104\n",
            " -0.07616592 -0.256388    0.01068471  0.15535621  0.14016917 -0.12092553\n",
            " -0.50752663 -0.44845929  0.22465713 -0.01201733  0.31809621  0.69623079\n",
            " -0.19355504 -1.82599917 -0.06064342 -0.46646854  1.17094383  0.52436937\n",
            " -0.15011883  0.64873154  0.11290008  0.20451912  1.01200125 -0.03623008\n",
            "  0.14387075 -0.08092312  0.38533083 -0.23025688 -0.16215754 -0.11963421\n",
            " -0.00545845 -0.16220442  0.35564642 -0.18877851 -0.18022583 -0.35119954\n",
            " -0.97563333  0.03645333  0.11602667 -0.13507963 -0.43529503  0.27797332\n",
            " -1.02719725  0.28064571  0.16004193 -0.37137654 -0.09417358 -0.20081162\n",
            " -0.17942421 -0.19036017 -0.20893496  0.27073939 -0.14960525 -0.09109336\n",
            " -0.13964854 -0.73047346  0.46233959 -0.03901142]\n",
            "[-9.26785000e-02  3.60022000e-01  3.65024286e-01 -1.17317429e-01\n",
            "  6.01894286e-02  9.27923571e-02 -2.29808429e-01  6.17278571e-02\n",
            "  6.63323571e-02  1.03062857e-02  5.75202143e-02 -1.69294357e-01\n",
            "  1.16908643e-01  6.30993571e-02  1.06148571e-01 -3.23041714e-01\n",
            "  1.86140071e-01 -5.99985000e-02 -5.68949286e-02  4.11105214e-01\n",
            "  2.26511500e-01 -6.34808571e-02  1.33198643e-01 -1.79723286e-01\n",
            "  1.37677786e-01 -2.23180929e-01  2.65335000e-02 -3.52401000e-01\n",
            " -9.77010357e-02 -1.44088500e-01  2.32642143e-02  2.41350429e-01\n",
            " -2.36946214e-01 -1.43693900e-01  2.38685000e-02  1.77873643e-01\n",
            "  1.78075000e-02  2.50025714e-01 -1.76609714e-01 -5.84773571e-02\n",
            " -4.19620214e-01 -2.21787571e-01  3.58896429e-01 -2.93148357e-01\n",
            " -7.62285714e-03  1.49616714e-01  3.15169000e-01 -1.50041857e-01\n",
            " -2.70308071e-01 -6.40487143e-01  4.96445000e-02  1.54537714e-01\n",
            "  1.05448857e-01  9.02411929e-01 -3.65073286e-01 -2.01195786e+00\n",
            "  2.49981000e-01 -3.44029286e-01  1.64942714e+00  4.69151429e-01\n",
            " -1.13462936e-01  9.01343571e-01  2.14790714e-02  1.13677143e-01\n",
            "  7.85385714e-01 -2.28974429e-01  4.57002643e-01 -6.89413571e-02\n",
            "  3.84103429e-01 -3.86304571e-01 -1.98968429e-01 -2.69528000e-01\n",
            " -4.81833571e-02 -1.30423857e-01  1.74146500e-01  5.92916429e-02\n",
            " -2.32507714e-01 -2.29228571e-04 -7.60347143e-01  1.34297143e-02\n",
            "  4.56713786e-01  1.40437201e-01 -4.46122643e-01  2.87303100e-01\n",
            " -1.55248929e+00  1.76816286e-01  7.98432857e-03  1.15293571e-02\n",
            "  8.99928571e-02 -3.41832429e-01 -1.52028714e-01 -3.90457857e-02\n",
            " -2.65723571e-02  1.60705071e-01 -7.15527143e-01 -5.53106429e-02\n",
            " -4.06663286e-01 -4.85422143e-01  6.30594714e-01  3.46819286e-01]\n",
            "[-1.4507600e-01  2.8061700e-01 -4.1572000e-02 -7.7427600e-02\n",
            " -2.7648540e-01  2.6964800e-01 -2.9924040e-01  1.4903740e-01\n",
            "  8.9868000e-02  1.8578600e-01 -4.4039400e-02 -8.6871000e-02\n",
            "  9.4023000e-02 -1.7157520e-01  1.3202400e-01 -3.1538600e-01\n",
            "  2.4576580e-01  1.4483260e-01 -3.1028200e-01  2.7084800e-01\n",
            "  3.5214080e-02 -3.8467200e-02  8.4940000e-02 -1.9378000e-02\n",
            "  2.1118970e-01 -1.8205400e-02 -1.9722740e-01 -5.5562680e-01\n",
            "  4.2611260e-01 -3.1348000e-01 -1.8710776e-01  1.3642000e-01\n",
            " -2.8592560e-01 -4.1984000e-02 -2.8586720e-01  5.5839800e-01\n",
            "  5.2560000e-02 -1.0221440e-01 -2.3838600e-03  1.7956560e-01\n",
            " -4.2138600e-01  3.9400000e-04 -2.3395820e-01 -3.5697000e-01\n",
            " -3.3092600e-01 -7.3486800e-02  1.5528000e-01 -1.3899320e-01\n",
            " -1.2282400e-01 -7.7588600e-01  7.9926400e-02 -2.7918400e-02\n",
            "  3.2103800e-01  8.9204200e-01 -3.4219152e-02 -1.2701500e+00\n",
            "  1.8833400e-01 -5.4849200e-01  1.1129200e+00  2.3273780e-01\n",
            " -2.5345000e-02  5.3561580e-01 -2.2702980e-01  3.0239440e-01\n",
            "  3.9806000e-01 -4.2119000e-02  3.4303700e-01  2.7960000e-02\n",
            "  1.5007680e-01 -5.4423600e-01 -2.6012200e-01 -6.7886480e-01\n",
            "  3.1598800e-02 -2.6827200e-01 -5.4583000e-02 -4.7035000e-02\n",
            " -1.5085728e-01  2.5630000e-02 -2.4295000e-01 -1.4440460e-01\n",
            "  1.3876990e-01  1.7339946e-01 -3.9156580e-01  2.3306600e-01\n",
            " -1.3523920e+00  4.4448000e-02  3.9462200e-01  3.2784600e-01\n",
            " -7.1542000e-02 -4.5317200e-01 -2.5904820e-01 -8.8763800e-02\n",
            " -2.2332620e-02 -7.1760000e-02 -2.9398800e-01 -2.3542836e-01\n",
            " -8.3013200e-02 -5.6743400e-01  3.6735800e-01 -9.6931400e-02]\n",
            "[ 8.06755714e-02  3.82780714e-01  7.79142857e-03 -1.82541429e-01\n",
            "  3.90591429e-01  3.71571429e-03 -1.99203286e-01  1.66667143e-01\n",
            "  6.46761429e-02  1.93199857e-01 -1.36801000e-01  2.84514829e-01\n",
            " -2.11380000e-02 -3.64087143e-02  2.73255714e-02 -4.55811429e-01\n",
            "  1.82835714e-01  3.75300000e-03 -1.40356286e-01  4.04273714e-01\n",
            "  4.53382857e-02 -2.29365857e-01 -8.43454286e-03  6.01898571e-02\n",
            "  2.07014286e-04  8.12354286e-02 -3.18930471e-01 -4.50171429e-01\n",
            " -8.55414286e-02 -1.15348571e-01 -1.01201143e-01  6.19397143e-01\n",
            " -8.74551429e-02  6.83737143e-02 -1.42322857e-01  3.02304857e-01\n",
            "  3.37140000e-02  2.17413000e-01  7.30840000e-02  1.72535714e-01\n",
            " -2.54226429e-01 -2.44263857e-01 -4.81842857e-02 -5.02388571e-01\n",
            "  1.21008843e-01 -8.98554286e-02  6.43042857e-02 -3.48757571e-01\n",
            " -4.71059857e-01 -9.12114286e-01 -2.54007143e-02 -4.90815929e-02\n",
            "  1.84514714e-01  1.03085000e+00 -2.39730000e-01 -2.40997143e+00\n",
            "  8.36497286e-02 -4.24145714e-01  1.89160000e+00  3.81273000e-01\n",
            " -1.03858714e-01  6.04812857e-01 -2.33811857e-01  1.96919900e-01\n",
            "  8.84271429e-01  6.06647143e-02  3.04849857e-01  2.69712857e-01\n",
            "  4.99787143e-01 -4.30912857e-01 -7.85638571e-02 -2.98201429e-01\n",
            " -2.82746429e-01 -2.02798286e-01  1.25722000e-01  8.96252857e-02\n",
            " -3.19487143e-02  4.72970000e-02 -1.04458571e+00  1.98502857e-01\n",
            "  6.96452857e-01  1.11273571e-01 -3.43981143e-01  2.00901429e-02\n",
            " -1.33243429e+00  5.36242857e-02  1.80842286e-01  1.22043900e-01\n",
            " -4.88206714e-02 -3.64892857e-01 -1.55488429e-01 -1.46943286e-01\n",
            " -1.91544286e-02 -1.84664000e-01 -2.95254857e-01 -1.18189143e-01\n",
            "  9.76123337e-02 -3.13142857e-01  7.55340000e-01 -2.02602000e-01]\n",
            "[-0.20790638  0.06673463  0.37885188  0.03071063  0.07193575  0.12421856\n",
            " -0.01785025  0.23724138 -0.17497313  0.26403411 -0.35265375 -0.06843217\n",
            " -0.03237537 -0.0598715   0.21466161 -0.14491988  0.13414375 -0.18692125\n",
            " -0.2389145   0.0696315   0.10098875 -0.143493    0.26840312 -0.02081788\n",
            "  0.1513625  -0.17170825 -0.22820625 -0.49825625 -0.33190725  0.15761625\n",
            " -0.37824512  0.62873762 -0.19419375 -0.19092525  0.07174     0.22515812\n",
            " -0.145416    0.02347797  0.03717363 -0.15465788 -0.4496825  -0.28744525\n",
            "  0.226419   -0.20057875  0.0510915   0.18280875  0.1352175   0.00264413\n",
            " -0.35596875 -0.79469125  0.09805612 -0.16893325  0.06232103  0.973035\n",
            " -0.16982375 -2.569625    0.290422    0.0131005   1.70739375  0.27012087\n",
            " -0.25142     0.62962625 -0.35468743 -0.08965818  0.875945    0.0904095\n",
            "  0.33180562  0.16341363  0.334516   -0.177375   -0.163329   -0.1393275\n",
            " -0.19906313 -0.28468275  0.19346588  0.04725463 -0.15566162  0.02244075\n",
            " -0.72046312 -0.01313     0.4906025  -0.01428112 -0.272061    0.1876235\n",
            " -1.13478     0.1509475   0.22336725 -0.187655   -0.1200405  -0.57398125\n",
            "  0.19012888 -0.07759613 -0.071935   -0.01325975 -0.2634975   0.1767055\n",
            " -0.169403   -0.35852537  0.58935875  0.20324625]\n",
            "[-2.21998000e-01  2.79203714e-01  6.46018571e-02  2.74361429e-02\n",
            "  1.42889000e-01  1.75675714e-01 -1.09390000e-01  1.93422857e-01\n",
            " -3.44857143e-03  1.93679429e-01 -1.91105857e-01 -2.41701886e-01\n",
            "  2.04821714e-01 -2.06950386e-02  1.12492857e-01 -2.35632857e-01\n",
            "  3.38937143e-01  3.89408571e-02 -2.78566857e-01  2.17680857e-01\n",
            " -6.28028571e-02 -3.93396143e-01  1.55541429e-01 -1.61265571e-01\n",
            "  2.13972857e-02 -1.86648571e-02 -1.48785714e-01 -1.69700000e-01\n",
            " -5.76300000e-02  1.41387143e-02 -2.49620000e-01  3.90736429e-01\n",
            " -1.56564286e-03  1.00402857e-02  3.00184571e-01  3.77205714e-01\n",
            " -3.08894286e-02  3.30681429e-01 -4.34498571e-02 -2.62225714e-01\n",
            " -1.60695143e-01  7.62401429e-02  3.07767143e-01 -2.63484286e-01\n",
            "  6.85372714e-02 -3.98484286e-02  3.54540857e-01 -1.75885000e-01\n",
            " -3.26433143e-01 -7.14501429e-01  1.84809000e-01 -5.37300000e-02\n",
            "  1.35300000e-01  9.23538571e-01 -3.14292286e-01 -1.82900143e+00\n",
            "  7.48230429e-02 -1.12460000e-01  1.36575786e+00  1.70380000e-01\n",
            " -3.78003171e-01  4.80895714e-01 -3.38760714e-01  2.05841471e-01\n",
            "  9.02867143e-01 -9.40642857e-02  3.13047429e-01  1.40221429e-01\n",
            "  1.50899000e-01 -3.69485714e-01 -3.00801143e-01 -3.54160857e-01\n",
            "  9.92650000e-02 -2.49172714e-01  2.43556714e-01  7.33447143e-02\n",
            " -1.90194286e-01 -1.84431100e-01 -7.34537143e-01 -7.52292857e-02\n",
            "  4.05274857e-01 -1.85212143e-01 -1.43552857e-01  2.78648571e-02\n",
            " -1.21279857e+00 -4.03490857e-02  1.68015714e-01 -9.12406400e-02\n",
            " -1.05899714e-01 -3.21332857e-01 -1.05594857e-01 -5.19111429e-02\n",
            "  1.18832429e-01 -7.91568571e-02 -2.65971286e-01 -8.35788571e-02\n",
            " -2.35533381e-01 -3.41184286e-01  4.00954000e-01  1.83071571e-01]\n",
            "[-0.24321962  0.22163     0.43234262 -0.14817125  0.02234425  0.29276788\n",
            " -0.0042415   0.11603875 -0.05515838  0.01928138  0.0800635  -0.0758655\n",
            "  0.53278063 -0.06506791  0.1256285  -0.17125838  0.29451875 -0.02614225\n",
            " -0.3734175   0.1844134   0.09621675 -0.20973312  0.22622937 -0.01411175\n",
            "  0.3246525  -0.259433   -0.04840663 -0.48493875 -0.08101625 -0.11416688\n",
            " -0.19696875  0.6927075  -0.00620362  0.0278795   0.20136325  0.23637363\n",
            "  0.06573375  0.4033325  -0.1043545  -0.04048837 -0.37706    -0.06135137\n",
            "  0.29228487 -0.3372635  -0.04973762 -0.03880375  0.31962838 -0.381315\n",
            " -0.24731375 -0.62424875 -0.13256487 -0.25413473  0.41358275  1.07864625\n",
            " -0.39476    -2.48413125  0.12486041 -0.26191288  1.49296375  0.6618025\n",
            " -0.04494375  0.68938     0.04307031  0.16006063  0.78973938 -0.20461375\n",
            "  0.71678625  0.38311925  0.29324375 -0.16934675 -0.10032987 -0.44655812\n",
            "  0.01363725 -0.348756    0.33575375  0.05211012 -0.14982112 -0.36402625\n",
            " -1.03345438 -0.28879     0.60482625  0.12265388 -0.49272868  0.14345512\n",
            " -1.38915    -0.18784538  0.08275737 -0.10116406 -0.09127875 -0.54966975\n",
            " -0.11697012 -0.15625675 -0.19562637 -0.11906484 -0.23217265 -0.0694865\n",
            " -0.37664738 -0.55980488  0.47081912  0.22221813]\n",
            "[ 0.197875   -0.307807    0.37118     0.546425   -0.47597    -0.01929\n",
            " -0.029185   -0.297771    0.03958     0.32851    -0.574595    0.78728\n",
            "  0.38069    -0.19501     0.3385     -0.100122    0.188125    0.454055\n",
            " -0.02481     0.268145   -0.246188   -0.65781    -0.04673    -0.1090825\n",
            "  0.2171645  -0.00607     0.3670645  -0.077605   -0.047475   -0.124135\n",
            "  0.459285   -0.2710225  -0.26096     0.200592   -0.24681    -0.187165\n",
            "  0.2416385  -0.024545   -0.32815605 -0.10372    -0.33121     0.047595\n",
            "  0.70668    -0.2343455  -0.294325   -0.5918465   0.86656    -0.07339\n",
            " -0.517275   -0.342631    0.87064     0.14684     0.1898395   0.981465\n",
            "  0.379245   -1.11972     0.30283    -0.520495    0.59479    -0.1791915\n",
            " -0.372115    0.064415    0.171928    0.369635    0.64244    -0.05466\n",
            " -0.161835   -0.337725   -0.388595    0.089951   -0.40084     0.535475\n",
            "  0.18234    -0.31175     0.113987   -0.2179345  -0.08257    -0.491775\n",
            " -1.21141    -0.00936     0.168555   -0.16206     0.178625   -0.230785\n",
            " -0.96599    -0.337855    0.158265    0.274575   -0.29145    -0.33363\n",
            " -0.20058565  0.24078    -0.371385    0.2160265   0.104965    0.089235\n",
            " -0.387255   -0.531705    0.209825    0.1167    ]\n",
            "[-0.03815225  0.24764105  0.242235   -0.14679207  0.0746275   0.5062\n",
            " -0.27453025  0.24313625  0.0361875   0.05035     0.37761     0.005195\n",
            "  0.236765    0.37070225 -0.10569975 -0.287395   -0.0343465   0.304245\n",
            " -0.3821505   0.0385845   0.28598775  0.0531505   0.459487    0.01175475\n",
            "  0.52475295 -0.19044508 -0.3802055  -0.5113975   0.043965   -0.122468\n",
            " -0.04078375  0.2531325  -0.183856   -0.2371325   0.108486   -0.00882825\n",
            "  0.1527925  -0.18265775 -0.09368375 -0.0832475  -0.287405   -0.5198025\n",
            "  0.0768825  -0.29675275 -0.0998625  -0.16493225 -0.1917875  -0.010994\n",
            " -0.15415884 -0.9142425   0.106747   -0.055565    0.085564    1.29607\n",
            " -0.06694475 -2.25505     0.04041    -0.0471045   1.780125    0.6649575\n",
            " -0.04840325  0.7362325  -0.25496025  0.2286425   0.6989175   0.11775825\n",
            "  0.317795    0.282511    0.19062075 -0.3799975  -0.1334355  -0.17480225\n",
            " -0.00567125 -0.40112     0.05394625 -0.01397625 -0.1971575  -0.07464\n",
            " -0.3490155   0.1031285   0.410955   -0.03109025 -0.684365    0.19090975\n",
            " -1.1647025   0.12867833  0.0449905   0.33943975 -0.07419     0.0308145\n",
            " -0.2894605   0.0673135  -0.01389    -0.259185   -0.6738375  -0.1578535\n",
            " -0.10030075 -0.27193625  0.546915   -0.00494825]\n"
          ]
        },
        {
          "output_type": "execute_result",
          "data": {
            "text/plain": [
              "{}"
            ]
          },
          "metadata": {},
          "execution_count": 257
        }
      ],
      "source": [
        "method_one_results=method_one(urban_dictionary_terms, target_synsets)\n",
        "method_one_results"
      ]
    },
    {
      "cell_type": "markdown",
      "id": "0b862967",
      "metadata": {
        "id": "0b862967"
      },
      "source": [
        "#### Q2. Implement your second method as `method_two` below.\n",
        "\n",
        "In this function, you should compute the cosine similarity between the sentence embedding of the UD word definition and those of the synsets, then for each UD word, choose the synset with the highest cosine similarity. For consistency, use the sentence transformer model called `sentence-transformers/all-distilroberta-v1`.\n",
        "\n",
        "Your function must also return a dictionary mapping each urban dictionary term to a WordNet synset ID, e.g.:\n",
        "\n",
        "`{\n",
        " \"adore\" : \"love.v.01\",\n",
        " \"dripping\" : \"stylish.a.01\"    \n",
        " }`\n",
        "\n",
        "As before, please make sure that any helper functions that you use are defined *within* `method_two`! That will help us extract your code more easily with the autograder."
      ]
    },
    {
      "cell_type": "code",
      "execution_count": null,
      "id": "7d2b70a3",
      "metadata": {
        "id": "7d2b70a3"
      },
      "outputs": [],
      "source": [
        "def method_two(urban_dictionary_terms: List[Tuple[str, str]], target_synsets: List[str]):\n",
        "    \"\"\"\n",
        "    Method 2: an algorithm based on sentence embeddings that maps each urban dictionary term to a synset ID.\n",
        "\n",
        "    Parameters\n",
        "    ----------\n",
        "    urban_dictionary_terms : List[Tuple[str, str]]\n",
        "        a list of string 2-tuples where the first elements are words, second elements are definitions.\n",
        "    target_synsets : List[str]\n",
        "        a list of synset IDs that the words should be classified into.\n",
        "        You can call `wn.synset(\"<synset ID>\")` to get the synset object.\n",
        "    \n",
        "    Returns\n",
        "    --------\n",
        "    A dictionary mapping each urban dictionary term to a WordNet synet ID, e.g.\n",
        "    `{\"adore\" : \"love.v.01\", \"dripping\" : \"stylish.a.01\"}`\n",
        "    \n",
        "    \"\"\"\n",
        "\n",
        "    # Your code\n",
        "\n",
        "    pass\n"
      ]
    },
    {
      "cell_type": "code",
      "execution_count": null,
      "id": "285b848a",
      "metadata": {
        "id": "285b848a"
      },
      "outputs": [],
      "source": [
        "method_two_results=method_two(urban_dictionary_terms, target_synsets)\n",
        "method_two_results"
      ]
    },
    {
      "cell_type": "markdown",
      "id": "5f329391",
      "metadata": {
        "id": "5f329391"
      },
      "source": [
        "#### Q3: Define an evaluation metric (accuracy).  \n",
        "\n",
        "Throughout this semester we've stressed how critical evaluation is for any NLP method.  Implement a function `accuracy` that assesses quality of the dictionaries you return from `method_one` and `method_two`.  This accuracy function should return a single real number (the accuracy), and its input parameters are a prediction dict (the output of your model) and a truth dict (which you will need to create based on your own judgement). Make sure that the accuracies you calculate for the two methods match what you expect. "
      ]
    },
    {
      "cell_type": "code",
      "execution_count": null,
      "id": "938b9fcd",
      "metadata": {
        "id": "938b9fcd"
      },
      "outputs": [],
      "source": [
        "def accuracy(prediction: Dict[str, str], truth: Dict[str, str]) -> float:\n",
        "    pass"
      ]
    },
    {
      "cell_type": "code",
      "execution_count": null,
      "id": "766150ed",
      "metadata": {
        "id": "766150ed"
      },
      "outputs": [],
      "source": [
        "truth = ..."
      ]
    },
    {
      "cell_type": "code",
      "execution_count": null,
      "id": "9ea46c6b",
      "metadata": {
        "id": "9ea46c6b"
      },
      "outputs": [],
      "source": [
        "print(accuracy(method_one_results, truth))"
      ]
    },
    {
      "cell_type": "code",
      "execution_count": null,
      "id": "c0135985",
      "metadata": {
        "id": "c0135985"
      },
      "outputs": [],
      "source": [
        "print(accuracy(method_two_results, truth))"
      ]
    },
    {
      "cell_type": "markdown",
      "id": "8eZv8eZJ8sfE",
      "metadata": {
        "id": "8eZv8eZJ8sfE"
      },
      "source": [
        "That concludes homework 6! To submit, just upload this .ipynb file to Gradescope."
      ]
    },
    {
      "cell_type": "markdown",
      "id": "djEZMMFT7j5G",
      "metadata": {
        "id": "djEZMMFT7j5G"
      },
      "source": [
        "#### Q4 (optional)\n",
        "\n",
        "Use the two methods you've defined to find the best-matching synset within the **entire** WordNet. Do the results make sense? Is one method consistently better than the other? Why?\n",
        "\n",
        "Here's a reminder of how to iterate through all synsets:"
      ]
    },
    {
      "cell_type": "code",
      "execution_count": null,
      "id": "6M_gxGMo7g2T",
      "metadata": {
        "id": "6M_gxGMo7g2T"
      },
      "outputs": [],
      "source": [
        "for idx, synset in enumerate(wn.all_synsets()):\n",
        "   print(idx, synset)\n",
        "   if (idx > 10): break"
      ]
    },
    {
      "cell_type": "code",
      "execution_count": null,
      "id": "z7Jpm8zN726O",
      "metadata": {
        "id": "z7Jpm8zN726O"
      },
      "outputs": [],
      "source": [
        ""
      ]
    }
  ],
  "metadata": {
    "colab": {
      "collapsed_sections": [],
      "name": "HW6 student.ipynb",
      "provenance": [],
      "toc_visible": true
    },
    "kernelspec": {
      "display_name": "Python 3 (ipykernel)",
      "language": "python",
      "name": "python3"
    },
    "language_info": {
      "codemirror_mode": {
        "name": "ipython",
        "version": 3
      },
      "file_extension": ".py",
      "mimetype": "text/x-python",
      "name": "python",
      "nbconvert_exporter": "python",
      "pygments_lexer": "ipython3",
      "version": "3.8.2"
    }
  },
  "nbformat": 4,
  "nbformat_minor": 5
}